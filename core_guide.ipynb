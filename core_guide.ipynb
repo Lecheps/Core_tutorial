{
 "cells": [
  {
   "cell_type": "markdown",
   "metadata": {
    "deletable": true,
    "editable": true,
    "slideshow": {
     "slide_type": "-"
    }
   },
   "source": [
    "# Guide for the compilation of the INCA Core and the implementation of a simple hydrological model"
   ]
  },
  {
   "cell_type": "markdown",
   "metadata": {
    "deletable": true,
    "editable": true
   },
   "source": [
    "This document is meant to be a hands-on guide for the compilation of the INCA Core which is at its essence a model-building tool, written in C++, that allows for rapid model prototyping at the cost of computational performance. It is meant to be deployed as a _library_ against which your program should _link_ in order to create models.\n",
    "\n",
    "Before going through this page, the reader is encouraged to browse the existing technical manual and the _*\\.pptx_ presentations describing the Core, its philosophy and implementation. These can be found on [github repository](https://github.com/biogeochemistry/INCA/tree/master/documentation) where the INCA source is stored. Please see the [preliminary requirements](#prel_req) section of this document for an explanation on how to get access to the repository.\n",
    "\n",
    "In short, the Core is a **model-building tool** resulting from the necessity of providing a structured, clear, and easily maintainable code base with which to build  and further advance the INCA family of models. This necessity arose from 20+ years of near-organic growth of the INCA models and the limitations this imposed on maintainability.\n",
    "\n",
    "It is written in C++ and the programming style is object oriented. One of the main arguments in favor of object-oriented programming is its ability to provide _encapsulation_, i.e. divide the code into layers of complexity. This requires careful planning for the structure of the code (and as such complicates structural changes), but allows rapid development, which is a definite benefit for model prototyping. Encapsulating data accesses and more importantly, operations on data allows to layering the degree of understanding of the C++ code required to interact with the core. \n",
    "\n",
    "At its outermost, or simplest, level, the Core allows for the creation of models by specifying model parameters, inputs, outputs and equations (and their linkages) and provides a variety of solvers (which can be specified and/or added). It automatically creates all looping traditionally required in time-dependent models.\n",
    "\n",
    "In order to interact with the Core at this level it is not necessary to be fluent with C++ but familiarity with it is an advantage. This document deals with usage of the Core at this level and aims to:\n",
    "\n",
    "* show how get the source code on your local machine.\n",
    "* provide a guide on how to compile the Core.\n",
    "* show how to create and run simple model using the Core.\n"
   ]
  },
  {
   "cell_type": "markdown",
   "metadata": {
    "deletable": true,
    "editable": true
   },
   "source": [
    "<h1 id=\"nocountDemo\" class=\"nocount\">Python settings and imports</h1>\n",
    "\n",
    "You can safely ignore this section. It is only meant to group the **imports** for the _Python_ sections of this document. \n",
    "\n",
    "* Importing modules required to run this notebook\n",
    "* Defining functions used in this notebook\n",
    "* Setting plotting options"
   ]
  },
  {
   "cell_type": "code",
   "execution_count": 1,
   "metadata": {
    "collapsed": true,
    "deletable": true,
    "editable": true
   },
   "outputs": [],
   "source": [
    "import numpy as np\n",
    "import pandas as pd\n",
    "import ipywidgets as widgets\n",
    "import matplotlib as plt"
   ]
  },
  {
   "cell_type": "markdown",
   "metadata": {
    "deletable": true,
    "editable": true
   },
   "source": [
    "<a id=\"prel_req\"></a>\n",
    "\n",
    "# Preliminary requirements\n",
    "\n",
    "## Getting the source code\n",
    "\n",
    "- Get a [github](https://github.com/) account.\n",
    "- Get access to the repository, if you don't already have it. Access is granted by either [JLG](http://www.niva.no/en/se-ansatt?navn=Jose-Luis%20Guerrero%20Calidonio) or [RMC](http://www.niva.no/en/se-ansatt?navn=Raoul-Marie%20Couture).\n",
    "- Clone the repository https://github.com/biogeochemistry/INCA.git to your computer. There are many ways of achieving this and you might already have your preferences. If you don't, you could:\n",
    "    - in Windows: use the [github desktop](https://desktop.github.com/) and [follow the instructions therein](https://help.github.com/desktop/guides/contributing/cloning-a-repository-from-github-to-github-desktop/).\n",
    "    - in _\\*nix_: a shell should suffice. Allergies to command line interfaces can be cured with, amongst many options, something like [git cola](http://git-cola.github.io/). \n",
    "- Be it through shell or GUI, it boils down to feeding github the following command together with your credentials:\n",
    "<div class=warn>\n",
    "**shell: ** git clone https://<span></span>github.com/biogeochemistry/INCA.git\n",
    "<div/>\n",
    "\n",
    "You should now have the source code, as well as the documentation in your local machine. \n",
    "\n",
    "The Core depends on two external libraries in order to run. Binaries are provided but they can also be compiled from source. This is explained in more detail in the [dependencies](#dependencies) section.\n",
    "\n",
    "<div class=warn>\n",
    "**shell: ** git clone https://<span></span>github.com/biogeochemistry/INCA.git\n",
    "<div/>"
   ]
  },
  {
   "cell_type": "markdown",
   "metadata": {
    "deletable": true,
    "editable": true
   },
   "source": [
    "<a id=\"dependencies\"></a>\n",
    "## Dependencies\n",
    "\n",
    "### Boost\n",
    "\n",
    "The [Boost C++ libraries](http://www.boost.org/) are a highly-regarded, peer-reviewed  collection of libraries, some of them being of such high-quality and usefulness that they end up becoming part of the C++ standard.\n",
    "\n",
    "Most Boost libraries are header-only, i.e. need only be placed in a _PATH_ accessible to your compiler (there are several ways of achieving this) but others need to be _linked_ and as such require prior compilation themselves. \n",
    "\n",
    "The Core requires the [boost::datetime](http://www.boost.org/doc/libs/1_63_0/doc/html/date_time.html) library which therefore needs to be obtained or compiled from source beforehand.\n",
    "\n",
    "For windows, [binaries](https://sourceforge.net/projects/boost/files/boost-binaries/1.63.0/) can be obtained requiring no compilation.\n",
    "\n",
    "Instructions to compile the Boost libraries can be found [here](http://www.boost.org/doc/libs/1_63_0/more/getting_started/windows.html) for Windows and [here](http://www.boost.org/doc/libs/1_63_0/more/getting_started/unix-variants.html) for _\\*nix_.\n",
    "\n",
    "A general piece of advice would be to use the same compiler throughout. This goes a long way to prevent linking problems. \n",
    "\n",
    "The Boost libraries are meant to be backwards compatible but, to put it bluntly, shit happens. The Core has been tested with versions 1_59_0 through 1_62_0."
   ]
  },
  {
   "cell_type": "markdown",
   "metadata": {
    "collapsed": false,
    "deletable": true,
    "editable": true
   },
   "source": [
    "### TinyXML2\n",
    "\n",
    "[TinyXML2](http://www.grinninglizard.com/tinyxml2/) is a lightweight XML parser that is used within the Core to read input files and/or generate output, although the latter is not recommended as it is not an efficient way of generating output.\n",
    "\n",
    "It is available for download from [github](https://github.com/leethomason/tinyxml2)."
   ]
  },
  {
   "cell_type": "markdown",
   "metadata": {},
   "source": [
    "### A quick discussion on linking \n",
    "\n",
    "If your code is to make use of a library, it has to _link_ (point) to it. This linkage can be either _static_ or _dynamic_. With static linking the library is included within every copy (executable) of your compiled program whereas with dynamic linking the library is placed within a folder specified in the PATH _environment variable_.\n",
    "\n",
    "In Windows you can [modify the PATH following this procedure.](http://superuser.com/questions/949560/how-do-i-set-system-environment-variables-in-windows-10)\n",
    "\n",
    "In _\\*nix_ you can:\n",
    "<section>\n",
    "   <div class=\"warn\">\n",
    "   **shell: ** echo $PATH\n",
    "   <div/>\n",
    "</section>\n",
    "\n",
    "to see which folders are already included (so you place your library in one of them) or modify it to add a path of your convenience:\n",
    "\n",
    "<section>\n",
    "   <div class=\"warn\">\n",
    "   **shell: ** PATH=/your/path:$PATH\n",
    "   <div/>\n",
    "</section>\n",
    "\n",
    "Static linking makes distribution and installation of the executable simpler, since all is contained with a single package. Dynamic linking makes compilation simpler, as a change in a library would only require a re-compilation of that library but not of the entire source. \n",
    "\n",
    "The instructions given here are for static linking."
   ]
  },
  {
   "cell_type": "markdown",
   "metadata": {},
   "source": [
    "## Compilers\n",
    "\n",
    "A compiler converts code into machine language that your computer can understand. When it comes to C++ compilers, most follow the C++ standard, which is a set of instructions on how the code is to be converted to machine language. The standard is constantly evolving and might in some cases be subject to _interpretation_. \n",
    "\n",
    "Furthermore, different compilers follow different _philosophies_ on how code should or can be transformed into _assembly_ (the language your processor understands). Some have their own ideosyncrasies or even extensions of the standard.\n",
    "\n",
    "As such, combining libraries born of different compilers, or even compiler _versions_ is often a losing proposition or, if the stars align, a serious challenge to your sanity. \n",
    "\n",
    "The _standard_ that is followed by the code in the Core is called C++11. Depending on your compiler, this might be the default, needs to be activated with a _flag_ or might be altogether unavailable or only partially implemented.\n",
    "\n",
    "For the purpose of this document the compilers that were tested are:\n",
    "- in Windows: mingw\n",
    "- in _\\*nix_: gcc-5.4.0\n",
    "\n",
    "The technical manual for the Core states that the supported compilers are"
   ]
  },
  {
   "cell_type": "code",
   "execution_count": 2,
   "metadata": {
    "collapsed": false,
    "deletable": true,
    "editable": true
   },
   "outputs": [
    {
     "data": {
      "text/html": [
       "<style>\n",
       "    @font-face {\n",
       "        font-family: \"Computer Modern\";\n",
       "        src: url('http://9dbb143991406a7c655e-aa5fcb0a5a4ec34cff238a2d56ca4144.r56.cf5.rackcdn.com/cmunss.otf');\n",
       "    }\n",
       "    @font-face {\n",
       "        font-family: \"Computer Modern\";\n",
       "        font-weight: bold;\n",
       "        src: url('http://9dbb143991406a7c655e-aa5fcb0a5a4ec34cff238a2d56ca4144.r56.cf5.rackcdn.com/cmunsx.otf');\n",
       "    }\n",
       "    @font-face {\n",
       "        font-family: \"Computer Modern\";\n",
       "        font-style: oblique;\n",
       "        src: url('http://9dbb143991406a7c655e-aa5fcb0a5a4ec34cff238a2d56ca4144.r56.cf5.rackcdn.com/cmunsi.otf');\n",
       "    }\n",
       "    @font-face {\n",
       "        font-family: \"Computer Modern\";\n",
       "        font-weight: bold;\n",
       "        font-style: oblique;\n",
       "        src: url('http://9dbb143991406a7c655e-aa5fcb0a5a4ec34cff238a2d56ca4144.r56.cf5.rackcdn.com/cmunso.otf');\n",
       "    }\n",
       "    div.cell{\n",
       "        width:800px;\n",
       "        margin-left:16% !important;\n",
       "        margin-right:auto;\n",
       "    }\n",
       "    h1 {\n",
       "        font-family: Helvetica, serif;\n",
       "    }\n",
       "    h4{\n",
       "        margin-top:12px;\n",
       "        margin-bottom: 3px;\n",
       "       }\n",
       "    div.text_cell_render{\n",
       "        font-family: Computer Modern, \"Helvetica Neue\", Arial, Helvetica, Geneva, sans-serif;\n",
       "        line-height: 145%;\n",
       "        font-size: 130%;\n",
       "        width:800px;\n",
       "        margin-left:auto;\n",
       "        margin-right:auto;\n",
       "    }\n",
       "    .CodeMirror{\n",
       "            font-family: \"Source Code Pro\", source-code-pro,Consolas, monospace;\n",
       "    }\n",
       "    .prompt{\n",
       "        display: None;\n",
       "    }\n",
       "    .text_cell_render h5 {\n",
       "        font-weight: 300;\n",
       "        font-size: 22pt;\n",
       "        color: #4057A1;\n",
       "        font-style: italic;\n",
       "        margin-bottom: .5em;\n",
       "        margin-top: 0.5em;\n",
       "        display: block;\n",
       "    }\n",
       "\n",
       "    div.warn {\n",
       "\tfont-family: Consolas, monaco, monospace;    \n",
       "    \tbackground-color: #f5f5f5;\n",
       "    \tborder-color: black;\n",
       "    \tborder-left: 5px solid black;\n",
       "    \tpadding: 0.5em;\n",
       "    }\n",
       "\n",
       "    body {counter-reset: h2}\n",
       "    h2 {counter-reset: h3}\n",
       "    h3 {counter-reset: h4}\n",
       "    h4 {counter-reset: h5}\n",
       "    h5 {counter-reset: h6}\n",
       "    h2:before {counter-increment: h2; content: counter(h2) \". \"}\n",
       "    h3:before {counter-increment: h3; content: counter(h2) \".\" counter(h3) \". \"}\n",
       "    h4:before {counter-increment: h4; content: counter(h2) \".\" counter(h3) \".\" counter(h4) \". \"}\n",
       "    h5:before {counter-increment: h5; content: counter(h2) \".\" counter(h3) \".\" counter(h4) \".\" counter(h5) \". \"}\n",
       "    h6:before {counter-increment: h6; content: counter(h2) \".\" counter(h3) \".\" counter(h4) \".\" counter(h5) \".\" counter(h6) \". \"}\n",
       "    h2.nocount:before, h3.nocount:before, h4.nocount:before, h5.nocount:before, h6.nocount:before {content: \"\"; counter-increment: none} \n",
       "    \n",
       "    blockquote {\n",
       "      background-color: #f6f6f6;\n",
       "      border-style: solid;\n",
       "      border-color: #dddddd;\n",
       "      border-width: 1px;\n",
       "      padding: 5px;\n",
       "    }\n",
       "    .warning{\n",
       "        color: rgb( 240, 20, 20 )\n",
       "        }  \n",
       "</style>\n",
       "<script>\n",
       "    MathJax.Hub.Config({\n",
       "                        TeX: {\n",
       "                           extensions: [\"AMSmath.js\"]\n",
       "                           },\n",
       "                tex2jax: {\n",
       "                    inlineMath: [ ['$','$'], [\"\\\\(\",\"\\\\)\"] ],\n",
       "                    displayMath: [ ['$$','$$'], [\"\\\\[\",\"\\\\]\"] ]\n",
       "                },\n",
       "                displayAlign: 'center', // Change this to 'center' to center equations.\n",
       "                \"HTML-CSS\": {\n",
       "                    styles: {'.MathJax_Display': {\"margin\": 4}}\n",
       "                }\n",
       "        });\n",
       "</script>\n"
      ],
      "text/plain": [
       "<IPython.core.display.HTML object>"
      ]
     },
     "execution_count": 2,
     "metadata": {},
     "output_type": "execute_result"
    }
   ],
   "source": [
    "# Path to custom CSS style for this document\n",
    "\n",
    "from IPython.core.display import HTML\n",
    "def css_styling():\n",
    "    styles = open(\"./styles/custom.css\", \"r\").read()\n",
    "    return HTML(styles)\n",
    "css_styling()"
   ]
  },
  {
   "cell_type": "code",
   "execution_count": 3,
   "metadata": {
    "collapsed": false,
    "deletable": true,
    "editable": true
   },
   "outputs": [
    {
     "data": {
      "application/javascript": [
       "$('<div id=\"toc\"></div>').css({position: 'fixed', top: '120px', left: 0}).appendTo(document.body);\n",
       "$.getScript('https://kmahelona.github.io/ipython_notebook_goodies/ipython_notebook_toc.js');"
      ],
      "text/plain": [
       "<IPython.core.display.Javascript object>"
      ]
     },
     "metadata": {},
     "output_type": "display_data"
    }
   ],
   "source": [
    "%%javascript\n",
    "$('<div id=\"toc\"></div>').css({position: 'fixed', top: '120px', left: 0}).appendTo(document.body);\n",
    "$.getScript('https://kmahelona.github.io/ipython_notebook_goodies/ipython_notebook_toc.js');"
   ]
  },
  {
   "cell_type": "code",
   "execution_count": null,
   "metadata": {
    "collapsed": true,
    "deletable": true,
    "editable": true
   },
   "outputs": [],
   "source": []
  }
 ],
 "metadata": {
  "kernelspec": {
   "display_name": "Python 3",
   "language": "python",
   "name": "python3"
  },
  "language_info": {
   "codemirror_mode": {
    "name": "ipython",
    "version": 3
   },
   "file_extension": ".py",
   "mimetype": "text/x-python",
   "name": "python",
   "nbconvert_exporter": "python",
   "pygments_lexer": "ipython3",
   "version": "3.5.2"
  }
 },
 "nbformat": 4,
 "nbformat_minor": 2
}
